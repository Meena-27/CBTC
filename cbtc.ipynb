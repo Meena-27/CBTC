{
  "nbformat": 4,
  "nbformat_minor": 0,
  "metadata": {
    "colab": {
      "provenance": [],
      "authorship_tag": "ABX9TyOLICDbDrCbz2BZ2iXXRq3b",
      "include_colab_link": true
    },
    "kernelspec": {
      "name": "python3",
      "display_name": "Python 3"
    },
    "language_info": {
      "name": "python"
    }
  },
  "cells": [
    {
      "cell_type": "markdown",
      "metadata": {
        "id": "view-in-github",
        "colab_type": "text"
      },
      "source": [
        "<a href=\"https://colab.research.google.com/github/Meena-27/CBTC/blob/main/cbtc.ipynb\" target=\"_parent\"><img src=\"https://colab.research.google.com/assets/colab-badge.svg\" alt=\"Open In Colab\"/></a>"
      ]
    },
    {
      "cell_type": "markdown",
      "source": [
        "# ***MASTERMIND GAME***"
      ],
      "metadata": {
        "id": "Lzc6c3UW7Ewr"
      }
    },
    {
      "cell_type": "code",
      "source": [
        "import random\n",
        "\n",
        "def generate_number():\n",
        "    \"\"\"Generate a random 3-digit number.\"\"\"\n",
        "    return random.randint(100, 999)\n",
        "\n",
        "def check_guess(secret_number, guess):\n",
        "    \"\"\"Check if the guess matches the secret number and provide hints.\"\"\"\n",
        "    bulls = 0  # Correct digits in correct positions\n",
        "    cows = 0   # Correct digits in wrong positions\n",
        "\n",
        "    for i in range(3):\n",
        "        if guess[i] == secret_number[i]:\n",
        "            bulls += 1\n",
        "        elif guess[i] in secret_number:\n",
        "            cows += 1\n",
        "\n",
        "    return bulls, cows\n",
        "\n",
        "def play_game():\n",
        "    print(\"Welcome to Mastermind!\")\n",
        "    print(\"Player 1 will set the number first.\")\n",
        "    player1_number = input(\"Player 1, please enter a 3-digit number: \")\n",
        "\n",
        "    while not player1_number.isdigit() or len(player1_number) != 3:\n",
        "        print(\"Invalid input! Please enter a valid 3-digit number.\")\n",
        "        player1_number = input(\"Player 1, please enter a 3-digit number: \")\n",
        "\n",
        "    print(\"\\nPlayer 1 has set the number. Player 2, it's your turn to guess!\")\n",
        "    attempts = 0\n",
        "    while True:\n",
        "        attempts += 1\n",
        "        player2_guess = input(\"Player 2, enter your guess (3-digit number): \")\n",
        "\n",
        "        while not player2_guess.isdigit() or len(player2_guess) != 3:\n",
        "            print(\"Invalid input! Please enter a valid 3-digit number.\")\n",
        "            player2_guess = input(\"Player 2, enter your guess (3-digit number): \")\n",
        "\n",
        "        bulls, cows = check_guess(player1_number, player2_guess)\n",
        "\n",
        "        print(f\"Bulls: {bulls}, Cows: {cows}\")\n",
        "\n",
        "        if bulls == 3:\n",
        "            print(f\"Congratulations! Player 2 guessed the number {player1_number} in {attempts} attempts!\")\n",
        "            break\n",
        "\n",
        "    print(\"\\nNow, Player 2 will set the number and Player 1 will guess.\")\n",
        "    player2_number = input(\"Player 2, please enter a 3-digit number: \")\n",
        "\n",
        "    while not player2_number.isdigit() or len(player2_number) != 3:\n",
        "        print(\"Invalid input! Please enter a valid 3-digit number.\")\n",
        "        player2_number = input(\"Player 2, please enter a 3-digit number: \")\n",
        "\n",
        "    print(\"\\nPlayer 2 has set the number. Player 1, it's your turn to guess!\")\n",
        "    attempts = 0\n",
        "    while True:\n",
        "        attempts += 1\n",
        "        player1_guess = input(\"Player 1, enter your guess (3-digit number): \")\n",
        "\n",
        "        while not player1_guess.isdigit() or len(player1_guess) != 3:\n",
        "            print(\"Invalid input! Please enter a valid 3-digit number.\")\n",
        "            player1_guess = input(\"Player 1, enter your guess (3-digit number): \")\n",
        "\n",
        "        bulls, cows = check_guess(player2_number, player1_guess)\n",
        "\n",
        "        print(f\"Bulls: {bulls}, Cows: {cows}\")\n",
        "\n",
        "        if bulls == 3:\n",
        "            print(f\"Congratulations! Player 1 guessed the number {player2_number} in {attempts} attempts!\")\n",
        "            break\n",
        "\n",
        "# Start the game\n",
        "play_game()\n"
      ],
      "metadata": {
        "colab": {
          "base_uri": "https://localhost:8080/"
        },
        "id": "5GHa-aTx7QT2",
        "outputId": "a4fe2532-c6ef-4802-ca9e-f0c707843a28"
      },
      "execution_count": 1,
      "outputs": [
        {
          "output_type": "stream",
          "name": "stdout",
          "text": [
            "Welcome to Mastermind!\n",
            "Player 1 will set the number first.\n",
            "Player 1, please enter a 3-digit number: 456\n",
            "\n",
            "Player 1 has set the number. Player 2, it's your turn to guess!\n",
            "Player 2, enter your guess (3-digit number): 321\n",
            "Bulls: 0, Cows: 0\n",
            "Player 2, enter your guess (3-digit number): 423\n",
            "Bulls: 1, Cows: 0\n",
            "Player 2, enter your guess (3-digit number): 223\n",
            "Bulls: 0, Cows: 0\n",
            "Player 2, enter your guess (3-digit number): 456\n",
            "Bulls: 3, Cows: 0\n",
            "Congratulations! Player 2 guessed the number 456 in 4 attempts!\n",
            "\n",
            "Now, Player 2 will set the number and Player 1 will guess.\n",
            "Player 2, please enter a 3-digit number: 345\n",
            "\n",
            "Player 2 has set the number. Player 1, it's your turn to guess!\n",
            "Player 1, enter your guess (3-digit number): 123\n",
            "Bulls: 0, Cows: 1\n",
            "Player 1, enter your guess (3-digit number): 356\n",
            "Bulls: 1, Cows: 1\n",
            "Player 1, enter your guess (3-digit number): \n",
            "Invalid input! Please enter a valid 3-digit number.\n",
            "Player 1, enter your guess (3-digit number): 342\n",
            "Bulls: 2, Cows: 0\n",
            "Player 1, enter your guess (3-digit number): 345\n",
            "Bulls: 3, Cows: 0\n",
            "Congratulations! Player 1 guessed the number 345 in 4 attempts!\n"
          ]
        }
      ]
    },
    {
      "cell_type": "markdown",
      "source": [
        "# ***ROCK PAPER SCISSOR GAME***"
      ],
      "metadata": {
        "id": "Pub35n788BKj"
      }
    },
    {
      "cell_type": "code",
      "source": [
        "import random\n",
        "\n",
        "def user_input():\n",
        "    choice = input(\"Your turn! Choose rock, paper, or scissors: \").lower()\n",
        "    while choice not in ['rock', 'paper', 'scissors']:\n",
        "        choice = input(\"Invalid choice. Please select rock, paper, or scissors: \").lower()\n",
        "    return choice\n",
        "\n",
        "def computer_input():\n",
        "    return random.choice(['rock', 'paper', 'scissors'])\n",
        "\n",
        "def determine_winner(user_choice, computer_choice):\n",
        "    if user_choice == computer_choice:\n",
        "        return \"It's a draw!\"\n",
        "    elif (user_choice == 'rock' and computer_choice == 'scissors') or \\\n",
        "         (user_choice == 'paper' and computer_choice == 'rock') or \\\n",
        "         (user_choice == 'scissors' and computer_choice == 'paper'):\n",
        "        return \"You win!\"\n",
        "    else:\n",
        "        return \"Computer wins!\"\n",
        "\n",
        "def main():\n",
        "    print(\"Welcome to the Rock Paper Scissors game!\")\n",
        "    while True:\n",
        "        user_choice = user_input()\n",
        "        computer_choice = computer_input()\n",
        "        print(f\"You chose {user_choice}, and the computer chose {computer_choice}.\")\n",
        "        print(determine_winner(user_choice, computer_choice))\n",
        "        play_again = input(\"Do you want to play again? (yes/no): \").lower()\n",
        "        if play_again != 'yes':\n",
        "            break\n",
        "\n",
        "if __name__ == \"__main__\":\n",
        "    main()\n"
      ],
      "metadata": {
        "colab": {
          "base_uri": "https://localhost:8080/"
        },
        "id": "_zQWUbf28qdm",
        "outputId": "b8189713-428a-48e2-ddcb-4ba238643808"
      },
      "execution_count": 3,
      "outputs": [
        {
          "name": "stdout",
          "output_type": "stream",
          "text": [
            "Welcome to the Rock Paper Scissors game!\n",
            "Your turn! Choose rock, paper, or scissors: paper\n",
            "You chose paper, and the computer chose rock.\n",
            "You win!\n",
            "Do you want to play again? (yes/no): yes\n",
            "Your turn! Choose rock, paper, or scissors: scissor\n",
            "Invalid choice. Please select rock, paper, or scissors: scissors\n",
            "You chose scissors, and the computer chose rock.\n",
            "Computer wins!\n",
            "Do you want to play again? (yes/no): no\n"
          ]
        }
      ]
    },
    {
      "cell_type": "markdown",
      "source": [
        "# ***CREATING PAYMENT RECEIPT***"
      ],
      "metadata": {
        "id": "Phvt7y-z9BTP"
      }
    },
    {
      "cell_type": "code",
      "source": [
        "from reportlab.lib.pagesizes import letter\n",
        "from reportlab.pdfgen import canvas\n",
        "\n",
        "def generate_payment_receipt(customer_name, amount, payment_method):\n",
        "    filename = f\"payment_receipt_{customer_name.replace(' ', '_')}.pdf\"  # Creating a unique filename\n",
        "    c = canvas.Canvas(filename, pagesize=letter)\n",
        "\n",
        "    # Adding content to the receipt\n",
        "    c.setFont(\"Helvetica-Bold\", 16)\n",
        "    c.drawString(100, 750, \"Payment Receipt\")\n",
        "\n",
        "    c.setFont(\"Helvetica\", 12)\n",
        "    c.drawString(100, 700, f\"Customer Name: {customer_name}\")\n",
        "    c.drawString(100, 680, f\"Amount: ${amount}\")\n",
        "    c.drawString(100, 660, f\"Payment Method: {payment_method}\")\n",
        "\n",
        "    c.setFont(\"Helvetica-Bold\", 14)\n",
        "    c.drawString(100, 620, \"Thank you for your payment!\")\n",
        "\n",
        "    # Saving the PDF\n",
        "    c.save()\n",
        "    print(f\"Payment receipt generated successfully: {filename}\")\n",
        "\n",
        "if __name__ == \"__main__\":\n",
        "    customer_name = input(\"Enter customer name: \")\n",
        "    amount = float(input(\"Enter payment amount: \"))\n",
        "    payment_method = input(\"Enter payment method: \")\n",
        "\n",
        "    generate_payment_receipt(customer_name, amount, payment_method)\n"
      ],
      "metadata": {
        "colab": {
          "base_uri": "https://localhost:8080/"
        },
        "id": "zIONofzK9iAm",
        "outputId": "971494b7-8427-4c99-d5e7-a0dbd1e0a8ec"
      },
      "execution_count": 6,
      "outputs": [
        {
          "output_type": "stream",
          "name": "stdout",
          "text": [
            "Enter customer name: bala\n",
            "Enter payment amount: 50000\n",
            "Enter payment method: online\n",
            "Payment receipt generated successfully: payment_receipt_bala.pdf\n"
          ]
        }
      ]
    }
  ]
}